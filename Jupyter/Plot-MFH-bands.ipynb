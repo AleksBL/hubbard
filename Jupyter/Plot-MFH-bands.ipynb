{
 "cells": [
  {
   "cell_type": "code",
   "execution_count": 1,
   "metadata": {},
   "outputs": [],
   "source": [
    "import numpy as np\n",
    "import netCDF4 as NC\n",
    "import matplotlib.pyplot as plt\n",
    "import glob\n",
    "import sisl"
   ]
  },
  {
   "cell_type": "code",
   "execution_count": 325,
   "metadata": {},
   "outputs": [],
   "source": [
    "class HubbardH(object):\n",
    "    \n",
    "    def __init__(self, fn, t=[0,2.7,0.2,0.18], R=[0.1,1.6,2.6,3.1], U=5., nsc=[1,1,1]):\n",
    "        # Save parameters\n",
    "        self.fn = fn\n",
    "        self.t = t # [onsite,1NN,2NN,3NN]\n",
    "        self.R = R # [0.1,r1,r2,r3]\n",
    "        self.U = U # Onsite Coulomb repulsion\n",
    "        self.geom = sisl.get_sile(fn).read_geom()\n",
    "        self.geom.sc.set_nsc(nsc)\n",
    "        # Determine pz sites\n",
    "        Hlist = []\n",
    "        for ia in self.geom:\n",
    "            if self.geom.atoms[ia].Z == 1:\n",
    "                Hlist.append(ia)\n",
    "        self.pi_geom = self.geom.remove(Hlist)\n",
    "        print 'Found %i pz sites'%len(self.pi_geom)\n",
    "        # Set hoppings\n",
    "        self.set_hoppings()\n",
    "        self.conv = {}\n",
    "        \n",
    "    def set_hoppings(self):\n",
    "        # Build hamiltonian for backbone\n",
    "        self.H0 = sisl.Hamiltonian(self.pi_geom)\n",
    "        for ia in self.pi_geom:\n",
    "            idx = self.pi_geom.close(ia,R=self.R)\n",
    "            for j,ti in enumerate(self.t):\n",
    "                if ti != 0:\n",
    "                    self.H0.H[ia,idx[j]] = -ti\n",
    "\n",
    "    def init_spins(self,dN):\n",
    "        self.Hup = self.H0.copy()\n",
    "        self.Hdn = self.H0.copy()\n",
    "        # Determine how many up's and down's\n",
    "        sites = len(self.pi_geom)\n",
    "        self.Nup = int(sites/2+dN)\n",
    "        self.Ndn = int(sites-self.Nup)\n",
    "        print 'Nup, Ndn, dN =',self.Nup, self.Ndn, self.Nup-self.Ndn, \n",
    "        assert self.Nup+self.Ndn == sites\n",
    "        self.nup = np.random.rand(sites)\n",
    "        self.nup = self.nup/np.sum(self.nup)*self.Nup\n",
    "        self.ndn = np.random.rand(sites)\n",
    "        self.ndp = self.ndn/np.sum(self.ndn)*self.Ndn\n",
    "            \n",
    "    def get_polarization(self):\n",
    "        pol = self.nup-self.ndn\n",
    "        print 'Pol=',np.sum(pol)\n",
    "        print 'nup=',np.sum(self.nup)\n",
    "        return pol\n",
    "        \n",
    "    def iterate(self,mix=1.0):\n",
    "        nup = self.nup\n",
    "        ndn = self.ndn\n",
    "        Nup = self.Nup\n",
    "        Ndn = self.Ndn\n",
    "        # Solve eigenvalue problems\n",
    "        ev_up, evec_up = self.Hup.eigh(eigvals_only=False)\n",
    "        ev_dn, evec_dn = self.Hdn.eigh(eigvals_only=False)\n",
    "        # Compute new occupations\n",
    "        niup = np.sum(np.power(evec_up[:,:int(Nup)],2),axis=1).real\n",
    "        nidn = np.sum(np.power(evec_dn[:,:int(Ndn)],2),axis=1).real\n",
    "        # Measure of density change\n",
    "        dn = np.sum(abs(nup-niup))\n",
    "        # Update occupations\n",
    "        self.nup = mix*niup+(1.-mix)*nup\n",
    "        self.ndn = mix*nidn+(1.-mix)*ndn\n",
    "        # Compute total energy\n",
    "        self.Etot = np.sum(ev_up[:int(Nup)])+np.sum(ev_dn[:int(Ndn)])-self.U*np.sum(nup*ndn)\n",
    "        # Update Hamiltonian\n",
    "        for ia in self.pi_geom:\n",
    "            self.Hup.H[ia,ia] = self.U*self.ndn[ia]\n",
    "            self.Hdn.H[ia,ia] = self.U*self.nup[ia]\n",
    "        #self.get_polarization()\n",
    "        return dn,self.Etot\n",
    "        \n",
    "    def plot_polarization(self,f=100):\n",
    "        import matplotlib.pyplot as plt\n",
    "        x = self.pi_geom.xyz[:,0]\n",
    "        y = self.pi_geom.xyz[:,1]\n",
    "        pol = self.nup-self.ndn\n",
    "        fig = plt.figure(figsize=(6,6))\n",
    "        axes = plt.axes()\n",
    "        axes.set_aspect('equal') \n",
    "        scatter1 = axes.scatter(x,y,f*pol,'r'); # pos. part, marker AREA is proportional to data\n",
    "        scatter2 = axes.scatter(x,y,-f*pol,'g'); # neg. part\n",
    "        plt.show()\n",
    "        \n",
    "    def save_state(self):\n",
    "        self.conv[self.U] = [1*self.nup,1*self.ndn,self.Hup.copy(),self.Hdn.copy(),self.Etot]\n",
    "        \n",
    "    def retrieve_state(self,U):\n",
    "        [self.nup,self.dn,self.Hup,self.Hdn,Etot] = self.conv[U]\n",
    "        self.U = U"
   ]
  },
  {
   "cell_type": "code",
   "execution_count": 329,
   "metadata": {},
   "outputs": [
    {
     "name": "stdout",
     "output_type": "stream",
     "text": [
      "Found 112 pz sites\n",
      "Nup, Ndn, dN = 56 56 0 Found 112 pz sites\n",
      "Nup, Ndn, dN = 57 55 2\n"
     ]
    }
   ],
   "source": [
    "HS = HubbardH('/home/thf/Dropbox/Sofia/Kondo-project/GGA/mol6/SP_0/molecule.XV',U=3.)\n",
    "HS.init_spins(0)\n",
    "HT = HubbardH('/home/thf/Dropbox/Sofia/Kondo-project/GGA/mol6/SP_0/molecule.XV',U=3.)\n",
    "HT.init_spins(1)\n",
    "\n",
    "# precondition with weak mixing\n",
    "[HS.iterate(mix=.1) for i in range(30)];\n",
    "[HT.iterate(mix=.1) for i in range(30)];"
   ]
  },
  {
   "cell_type": "code",
   "execution_count": 352,
   "metadata": {},
   "outputs": [
    {
     "name": "stdout",
     "output_type": "stream",
     "text": [
      "0 1.4750950461106527e-10 -324.52538014343565 2.7025341686748305e-08 -324.50783184712225\n",
      "10 0.024404070895071905 -313.4522448342276 0.02912106777057838 -313.42702276080894\n",
      "20 0.0024736141498622466 -313.45238469814126 0.004343256876466028 -313.42728834979465\n",
      "30 0.0002482115088177639 -313.45238615105916 0.000671780733163263 -313.4272950829549\n",
      "40 2.4916949202535843e-05 -313.4523861657642 0.00010829808590878676 -313.4272952694679\n",
      "50 2.503337976356157e-06 -313.4523861659129 1.809588110557314e-05 -313.4272952749475\n",
      "60 2.516517123574147e-07 -313.45238616591445 3.1271236593521934e-06 -313.427295275113\n",
      "70 2.5309052242850072e-08 -313.45238616591456 5.573215243193097e-07 -313.4272952751181\n",
      "80 2.546317989793323e-09 -313.4523861659145 9.887055718582616e-08 -313.4272952751182\n",
      "90 2.5627400201955197e-10 -313.4523861659145 1.7465214441347854e-08 -313.4272952751182\n"
     ]
    },
    {
     "data": {
      "image/png": "[encoded data removed]",
      "text/plain": [
       "<matplotlib.figure.Figure at 0x7fb68d7f1050>"
      ]
     },
     "metadata": {},
     "output_type": "display_data"
    },
    {
     "data": {
      "image/png": "[encoded data removed]",
      "text/plain": [
       "<matplotlib.figure.Figure at 0x7fb68e780190>"
      ]
     },
     "metadata": {},
     "output_type": "display_data"
    }
   ],
   "source": [
    "HS.U = 4.4\n",
    "HT.U = HS.U\n",
    "for i in range(100):\n",
    "    dnS, ES = HS.iterate(mix=1)\n",
    "    dnT, ET = HT.iterate(mix=1)\n",
    "    if i%10==0:\n",
    "        print i, dnS, ES, dnT, ET\n",
    "HS.plot_polarization(f=300)\n",
    "HT.plot_polarization(f=300)"
   ]
  },
  {
   "cell_type": "code",
   "execution_count": 353,
   "metadata": {},
   "outputs": [],
   "source": [
    "HS.save_state()\n",
    "HT.save_state()"
   ]
  },
  {
   "cell_type": "code",
   "execution_count": 356,
   "metadata": {},
   "outputs": [
    {
     "name": "stdout",
     "output_type": "stream",
     "text": [
      "[[3.         3.2        3.4        3.6        3.8        4.\n",
      "  4.2        4.4       ]\n",
      " [0.03585933 0.02717058 0.0212453  0.01765568 0.01655156 0.01801835\n",
      "  0.021204   0.02509089]]\n"
     ]
    },
    {
     "data": {
      "image/png": "[encoded data removed]",
      "text/plain": [
       "<matplotlib.figure.Figure at 0x7fb68f00f1d0>"
      ]
     },
     "metadata": {},
     "output_type": "display_data"
    }
   ],
   "source": [
    "dat = []\n",
    "for i in HS.conv.keys():\n",
    "    dat.append([i,HT.conv[i][4]-HS.conv[i][4]])\n",
    "dat.sort()\n",
    "dat = np.array(dat).T\n",
    "print dat\n",
    "plt.plot(dat[0],dat[1])\n",
    "plt.ylim([0.015,0.1])\n",
    "plt.show()"
   ]
  },
  {
   "cell_type": "code",
   "execution_count": 303,
   "metadata": {},
   "outputs": [],
   "source": [
    "HH.retrieve_state(3.2)"
   ]
  },
  {
   "cell_type": "code",
   "execution_count": 266,
   "metadata": {},
   "outputs": [
    {
     "name": "stdout",
     "output_type": "stream",
     "text": [
      "0 2.0050627824730327e-13 -346.8990041769387\n",
      "1 2.823297151621773e-13 -346.8376142325477\n",
      "2 2.2620794126737565e-13 -346.83761423254765\n",
      "3 1.5931700403370996e-13 -346.8376142325477\n",
      "4 2.061129045216603e-13 -346.8376142325476\n",
      "5 2.7006175074006933e-13 -346.8376142325477\n",
      "6 2.0067281170099704e-13 -346.8376142325477\n",
      "7 2.896016759734721e-13 -346.8376142325477\n",
      "8 3.3306690738754696e-13 -346.83761423254765\n",
      "9 2.7200464103316335e-13 -346.8376142325477\n",
      "10 3.5388358909926865e-13 -346.8376142325477\n",
      "11 3.3467673077325344e-13 -346.8376142325476\n",
      "12 2.1393997684526767e-13 -346.8376142325477\n",
      "13 2.9282132274488504e-13 -346.8376142325477\n",
      "14 1.8424151093654473e-13 -346.83761423254765\n",
      "15 2.476907567938724e-13 -346.8376142325477\n",
      "16 2.548516953027047e-13 -346.8376142325476\n",
      "17 2.993161274389422e-13 -346.8376142325477\n",
      "18 2.473021787352536e-13 -346.83761423254765\n",
      "19 2.5568436257117355e-13 -346.8376142325476\n",
      "20 2.3669954885008337e-13 -346.8376142325477\n",
      "21 2.4225066397320916e-13 -346.8376142325476\n",
      "22 3.566036355096003e-13 -346.8376142325477\n",
      "23 2.0378143616994748e-13 -346.8376142325477\n",
      "24 3.493316746983055e-13 -346.8376142325477\n",
      "25 3.4244829194562953e-13 -346.8376142325477\n",
      "26 3.2479574585408955e-13 -346.8376142325477\n",
      "27 2.5018875859927903e-13 -346.8376142325477\n",
      "28 5.007105841059456e-13 -346.8376142325476\n",
      "29 2.439159985101469e-13 -346.8376142325476\n",
      "30 3.2007729799943263e-13 -346.8376142325477\n",
      "31 2.0755619445367302e-13 -346.8376142325477\n",
      "32 3.510525203864745e-13 -346.83761423254765\n",
      "33 3.6731728769723304e-13 -346.8376142325477\n",
      "34 2.82052159406021e-13 -346.8376142325477\n",
      "35 3.4161562467716067e-13 -346.8376142325476\n",
      "36 3.0375701953744283e-13 -346.8376142325477\n",
      "37 3.8785641365279844e-13 -346.8376142325477\n",
      "38 3.3295588508508445e-13 -346.83761423254765\n",
      "39 3.0686564400639327e-13 -346.83761423254754\n",
      "40 1.89681603757208e-13 -346.8376142325476\n",
      "41 2.0000667788622195e-13 -346.8376142325477\n",
      "42 1.7380541450506826e-13 -346.83761423254765\n",
      "43 2.5623947408348613e-13 -346.8376142325476\n",
      "44 2.227107387398064e-13 -346.8376142325476\n",
      "45 2.9054536554440347e-13 -346.8376142325476\n",
      "46 2.2243318298365011e-13 -346.8376142325476\n",
      "47 2.3503421431314564e-13 -346.83761423254765\n",
      "48 2.8660407380698416e-13 -346.8376142325476\n",
      "49 2.0167201242315969e-13 -346.8376142325477\n",
      "50 2.0172752357439094e-13 -346.83761423254765\n",
      "51 2.611244553918368e-13 -346.8376142325476\n",
      "52 3.498867862106181e-13 -346.8376142325476\n",
      "53 4.3354209111612363e-13 -346.8376142325477\n",
      "54 2.2121193765656244e-13 -346.8376142325477\n",
      "55 2.1116441928370477e-13 -346.8376142325476\n",
      "56 2.473021787352536e-13 -346.8376142325477\n",
      "57 2.275957200481571e-13 -346.8376142325477\n",
      "58 2.2382096176443156e-13 -346.8376142325477\n",
      "59 1.9018120411828932e-13 -346.8376142325477\n",
      "60 2.385314168407149e-13 -346.8376142325477\n",
      "61 2.974842594483107e-13 -346.8376142325476\n",
      "62 2.0539125955565396e-13 -346.8376142325476\n",
      "63 2.2171153801764376e-13 -346.8376142325477\n",
      "64 2.1671553440683056e-13 -346.8376142325477\n",
      "65 3.259059688787147e-13 -346.8376142325477\n",
      "66 2.2248869413488137e-13 -346.8376142325477\n",
      "67 1.392774784392259e-13 -346.8376142325476\n",
      "68 3.2479574585408955e-13 -346.8376142325477\n",
      "69 2.727262859991697e-13 -346.8376142325476\n",
      "70 2.404743071338089e-13 -346.8376142325476\n",
      "71 2.4608093340816595e-13 -346.8376142325477\n",
      "72 1.6275869541004795e-13 -346.8376142325477\n",
      "73 2.5096591471651664e-13 -346.8376142325476\n",
      "74 2.3725466036239595e-13 -346.8376142325476\n",
      "75 2.2609691896491313e-13 -346.8376142325477\n",
      "76 2.3775426072347727e-13 -346.8376142325477\n",
      "77 3.4361402612148595e-13 -346.83761423254765\n",
      "78 3.3967273438406664e-13 -346.8376142325477\n",
      "79 2.368105711525459e-13 -346.8376142325477\n",
      "80 2.356448369766895e-13 -346.83761423254776\n",
      "81 2.3042678876095124e-13 -346.8376142325476\n",
      "82 2.858824288409778e-13 -346.8376142325476\n",
      "83 1.6497914145929826e-13 -346.83761423254765\n",
      "84 1.6331380692236053e-13 -346.8376142325477\n",
      "85 2.2293278334473143e-13 -346.8376142325476\n",
      "86 1.911248936892207e-13 -346.8376142325476\n",
      "87 2.599587212159804e-13 -346.8376142325476\n",
      "88 3.0453417565468044e-13 -346.8376142325477\n",
      "89 1.6064927166326015e-13 -346.8376142325477\n",
      "90 1.7247314687551807e-13 -346.8376142325477\n",
      "91 3.1058489113888754e-13 -346.8376142325477\n",
      "92 3.380073998471289e-13 -346.8376142325477\n",
      "93 2.1949109196839345e-13 -346.83761423254765\n",
      "94 2.1832535779253703e-13 -346.8376142325477\n",
      "95 2.1344037648418634e-13 -346.83761423254765\n",
      "96 2.571831636544175e-13 -346.8376142325477\n",
      "97 3.4877656318599293e-13 -346.83761423254765\n",
      "98 2.2670754162845697e-13 -346.83761423254765\n",
      "99 1.6298074001497298e-13 -346.8376142325476\n"
     ]
    },
    {
     "data": {
      "image/png": "[encoded data removed]",
      "text/plain": [
       "<matplotlib.figure.Figure at 0x7fb68e5c1490>"
      ]
     },
     "metadata": {},
     "output_type": "display_data"
    }
   ],
   "source": [
    "for i in range(100):\n",
    "    dn, E = HH.iterate(mix=1)\n",
    "    if i%1==0:\n",
    "        print i, dn, E\n",
    "HH.save_state()\n",
    "HH.plot_polarization(f=300)"
   ]
  },
  {
   "cell_type": "code",
   "execution_count": 259,
   "metadata": {},
   "outputs": [
    {
     "ename": "NameError",
     "evalue": "name 'getH0' is not defined",
     "output_type": "error",
     "traceback": [
      "\u001b[0;31m---------------------------------------------------------------------------\u001b[0m",
      "\u001b[0;31mNameError\u001b[0m                                 Traceback (most recent call last)",
      "\u001b[0;32m<ipython-input-259-c9a10b77eb89>\u001b[0m in \u001b[0;36m<module>\u001b[0;34m()\u001b[0m\n\u001b[0;32m----> 1\u001b[0;31m \u001b[0mH0\u001b[0m \u001b[0;34m=\u001b[0m \u001b[0mgetH0\u001b[0m\u001b[0;34m(\u001b[0m\u001b[0;34m'molecule.XV'\u001b[0m\u001b[0;34m,\u001b[0m\u001b[0mt1\u001b[0m\u001b[0;34m=\u001b[0m\u001b[0;36m2.7\u001b[0m\u001b[0;34m,\u001b[0m\u001b[0mt2\u001b[0m\u001b[0;34m=\u001b[0m\u001b[0;36m0.2\u001b[0m\u001b[0;34m,\u001b[0m\u001b[0mt3\u001b[0m\u001b[0;34m=\u001b[0m\u001b[0;36m0.18\u001b[0m\u001b[0;34m)\u001b[0m\u001b[0;34m\u001b[0m\u001b[0m\n\u001b[0m\u001b[1;32m      2\u001b[0m \u001b[0;34m\u001b[0m\u001b[0m\n\u001b[1;32m      3\u001b[0m \u001b[0mNup\u001b[0m \u001b[0;34m=\u001b[0m \u001b[0;36m14\u001b[0m\u001b[0;34m\u001b[0m\u001b[0m\n\u001b[1;32m      4\u001b[0m \u001b[0mNdn\u001b[0m \u001b[0;34m=\u001b[0m \u001b[0;36m14\u001b[0m\u001b[0;34m\u001b[0m\u001b[0m\n\u001b[1;32m      5\u001b[0m \u001b[0mU\u001b[0m \u001b[0;34m=\u001b[0m \u001b[0;36m3.0\u001b[0m\u001b[0;34m\u001b[0m\u001b[0m\n",
      "\u001b[0;31mNameError\u001b[0m: name 'getH0' is not defined"
     ]
    }
   ],
   "source": [
    "H0 = getH0('molecule.XV',t1=2.7,t2=0.2,t3=0.18)\n",
    "\n",
    "Nup = 14\n",
    "Ndn = 14\n",
    "U = 3.0\n",
    "\n",
    "Hup = H0.copy()\n",
    "Hdn = H0.copy()"
   ]
  },
  {
   "cell_type": "code",
   "execution_count": 60,
   "metadata": {},
   "outputs": [
    {
     "name": "stdout",
     "output_type": "stream",
     "text": [
      "[0.50269985 0.50622415 0.4926288  0.50618106 0.49278515 0.50618106\n",
      " 0.51007167 0.4926288  0.49693939 0.49501151 0.49278515 0.49693939\n",
      " 0.50269985 0.50622415 0.50622415 0.50269985 0.49693939 0.49278515\n",
      " 0.49501151 0.49693939 0.4926288  0.51007167 0.50618106 0.49278515\n",
      " 0.50618106 0.4926288  0.50622415 0.50269985]\n"
     ]
    }
   ],
   "source": [
    "ev_up, evec_up = Hup.eigh(eigvals_only=False)\n",
    "ev_dn, evec_dn = Hdn.eigh(eigvals_only=False)\n",
    "\n",
    "# Obtain site-resolved density\n",
    "nup = np.sum(np.power(evec_up[:,:int(Nup)],2),axis=1).real\n",
    "ndn = np.sum(np.power(evec_dn[:,:int(Ndn)],2),axis=1).real\n",
    "\n",
    "for ia in H0.geom:\n",
    "    Hup.H[ia,ia] = U*ndn[ia]\n",
    "    Hdn.H[ia,ia] = U*nup[ia]\n",
    "    \n",
    "print nup"
   ]
  },
  {
   "cell_type": "code",
   "execution_count": 2,
   "metadata": {},
   "outputs": [],
   "source": [
    "def readNC(fn,ispin=0,nbands=20):\n",
    "    nc = NC.Dataset(fn)\n",
    "    kx = nc.variables['grid'][:,0]\n",
    "    ev = nc.variables['eigenvalues'][:,ispin,-nbands:]\n",
    "    nc.close()\n",
    "    return kx,ev\n"
   ]
  },
  {
   "cell_type": "code",
   "execution_count": 3,
   "metadata": {},
   "outputs": [],
   "source": [
    "def analyse(geom,t1,t2,t3):\n",
    "    #global backbone\n",
    "    molecule = sisl.get_sile(geom)\n",
    "    mol = molecule.read_geom()\n",
    "    mol.sc.set_nsc([3,1,1])\n",
    "    #mol = mol.translate( -mol.center(what='xyz') )\n",
    "    # mol.atom[0] = sisl.Atom(1,R=1.2) # how to set a radius!!!\n",
    "    Hlist = []\n",
    "    for ia in mol:\n",
    "        if mol.atoms[ia].Z==1:\n",
    "            Hlist.append(ia)\n",
    "    backbone = mol.remove(Hlist)\n",
    "    H = sisl.Hamiltonian(backbone)\n",
    "    # Define radii for 1NN, 2NN, 3NN etc\n",
    "    Rsph = [0.1,1.6,2.6,3.1,3.5]\n",
    "    bondlengths = []\n",
    "    for ia in backbone:\n",
    "        idx,rij = backbone.close(ia,R=Rsph,ret_rij=True)\n",
    "        bondlengths += [r for r in rij[1:]]\n",
    "        H[ia,idx[0]] = 0.0\n",
    "        H[ia,idx[1]] = -t1 # C-C bond 2.7\n",
    "        if third:\n",
    "            H[ia,idx[2]] = -t2 # C-C bond 0.2\n",
    "            H[ia,idx[3]] = -t3 # C-C bond 0.18\n",
    "    return H\n",
    "\n",
    "def TBbands(geom,t1,t2,t3):\n",
    "    H = analyse(geom,t1,t2,t3)\n",
    "    klist = np.linspace(0,0.5,101)\n",
    "    eigs = np.empty([len(klist), H.no])\n",
    "    for ik, k in enumerate(klist):\n",
    "        eigs[ik,:] = H.eigh([k,0,0], eigvals_only=True)\n",
    "    return klist,eigs"
   ]
  },
  {
   "cell_type": "code",
   "execution_count": null,
   "metadata": {},
   "outputs": [],
   "source": []
  },
  {
   "cell_type": "code",
   "execution_count": 116,
   "metadata": {
    "collapsed": true
   },
   "outputs": [],
   "source": [
    "def mkplots(t1=2.7,t2=0.2,t3=0.18):\n",
    "    if t2 > 0 or t3 > 0:\n",
    "        tb = '3NN'\n",
    "    else:\n",
    "        tb = '1NN'\n",
    "\n",
    "    # Read structure from here:\n",
    "    ka,evtb = TBbands('LDA/31-ribbon/8.870/molecule.XV',t1,t2,t3)\n",
    "    ka = 2*ka # Units ka/pi\n",
    "    egap = (evtb[0,14]+evtb[0,13])/2 # determine midgap\n",
    "\n",
    "    for xc in [r'LDA', r'GGA']:\n",
    "        if 'LDA' in xc:\n",
    "            fn = xc+'/31-ribbon/8.870/Ebands/Electrons.nc' # LDA minimum\n",
    "        else:\n",
    "            fn = xc+'/31-ribbon/8.970/Ebands/Electrons.nc' # GGA minimum\n",
    "        fig = plt.figure(figsize=(4,6));\n",
    "        axes = plt.axes();\n",
    "\n",
    "        # Add siesta bands\n",
    "        k1,ev = readNC(fn)\n",
    "        egap2 = (ev[0,9]+ev[0,10])/2\n",
    "        plt.plot(ka,ev-egap2,'k');\n",
    "        # Add TB results\n",
    "        plt.plot(ka, evtb-egap, 'r')\n",
    "        plt.ylim(-4,4)\n",
    "        plt.rc('font', family='Bitstream Vera Serif', size=16)\n",
    "        plt.rc('text', usetex=True)\n",
    "\n",
    "        axes.set_title(xc+r' vs.~'+tb)\n",
    "        axes.set_xlabel(r'$ka/\\pi$')\n",
    "        axes.set_ylabel(r'$E_{nk}$ (eV)')\n",
    "        #plt.xticks(np.arange(0,.6,0.1))\n",
    "        plt.subplots_adjust(left=0.2)\n",
    "        plt.savefig(xc+'-'+tb+'-%.2f-%.2f-%.2f.pdf'%(t1,t2,t3))\n",
    "        plt.close('all')\n"
   ]
  },
  {
   "cell_type": "code",
   "execution_count": 118,
   "metadata": {
    "collapsed": true
   },
   "outputs": [],
   "source": [
    "for t in [2.7,2.8,2.9]:\n",
    "    mkplots(t1=t, t2=0.0, t3=0.00)\n",
    "    mkplots(t1=t, t2=0.2, t3=0.18)"
   ]
  },
  {
   "cell_type": "code",
   "execution_count": 117,
   "metadata": {
    "collapsed": true
   },
   "outputs": [],
   "source": [
    "mkplots(t1=2.9, t2=0.0, t3=0.0)"
   ]
  },
  {
   "cell_type": "code",
   "execution_count": 84,
   "metadata": {
    "collapsed": true
   },
   "outputs": [],
   "source": [
    "mkplots(t1=2.9, t2=0.2, t3=0.18)"
   ]
  },
  {
   "cell_type": "code",
   "execution_count": null,
   "metadata": {
    "collapsed": true
   },
   "outputs": [],
   "source": []
  }
 ],
 "metadata": {
  "kernelspec": {
   "display_name": "Python 2",
   "language": "python",
   "name": "python2"
  },
  "language_info": {
   "codemirror_mode": {
    "name": "ipython",
    "version": 2
   },
   "file_extension": ".py",
   "mimetype": "text/x-python",
   "name": "python",
   "nbconvert_exporter": "python",
   "pygments_lexer": "ipython2",
   "version": "2.7.14"
  }
 },
 "nbformat": 4,
 "nbformat_minor": 2
}
