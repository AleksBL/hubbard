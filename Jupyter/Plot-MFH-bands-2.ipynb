{
 "cells": [
  {
   "cell_type": "code",
   "execution_count": 1,
   "metadata": {},
   "outputs": [],
   "source": [
    "import numpy as np\n",
    "import netCDF4 as NC\n",
    "import matplotlib.pyplot as plt\n",
    "import glob\n",
    "import sisl\n",
    "import hubbard"
   ]
  },
  {
   "cell_type": "code",
   "execution_count": 64,
   "metadata": {},
   "outputs": [
    {
     "name": "stdout",
     "output_type": "stream",
     "text": [
      "Found 28 pz sites\n",
      "   U   = 0.0\n",
      "   Nup = 14\n",
      "   Ndn = 14\n",
      "Appending to 31cGNR.XV.nc\n"
     ]
    }
   ],
   "source": [
    "H = hubbard.Hubbard('31cGNR.XV',nsc=[3,1,1],kmesh=[50,1,1])"
   ]
  },
  {
   "cell_type": "code",
   "execution_count": 65,
   "metadata": {},
   "outputs": [
    {
     "name": "stdout",
     "output_type": "stream",
     "text": [
      "(2.2767299662218576e-07, -74.72755498367292)\n"
     ]
    },
    {
     "data": {
      "image/png": "[encoded data removed]",
      "text/plain": [
       "<matplotlib.figure.Figure at 0x7fe90bcbf990>"
      ]
     },
     "metadata": {},
     "output_type": "display_data"
    }
   ],
   "source": [
    "H.U = 5\n",
    "H.read()\n",
    "for i in range(1):\n",
    "    print H.iterate(mix=1)\n",
    "#H.plot_charge(f=400)\n",
    "H.plot_polarization(f=400)\n",
    "#H.save()"
   ]
  },
  {
   "cell_type": "code",
   "execution_count": null,
   "metadata": {},
   "outputs": [],
   "source": [
    "for xc in [r'LDA', r'GGA']:\n",
    "        if 'LDA' in xc:\n",
    "            fn = xc+'/31-ribbon/8.870/Ebands/Electrons.nc' # LDA minimum\n",
    "        else:\n",
    "            fn = xc+'/31-ribbon/8.970/Ebands/Electrons.nc' # GGA minimum\n",
    "        fig = plt.figure(figsize=(4,6));\n",
    "        axes = plt.axes();\n",
    "\n",
    "        # Add siesta bands\n",
    "        k1,ev = readNC(fn)\n",
    "        egap2 = (ev[0,9]+ev[0,10])/2\n",
    "        plt.plot(ka,ev-egap2,'k');\n",
    "        # Add TB results\n",
    "        plt.plot(ka, evtb-egap, 'r')\n",
    "        plt.ylim(-4,4)\n",
    "        plt.rc('font', family='Bitstream Vera Serif', size=16)\n",
    "        plt.rc('text', usetex=True)\n",
    "\n",
    "        axes.set_title(xc+r' vs.~'+tb)\n",
    "        axes.set_xlabel(r'$ka/\\pi$')\n",
    "        axes.set_ylabel(r'$E_{nk}$ (eV)')\n",
    "        #plt.xticks(np.arange(0,.6,0.1))\n",
    "        plt.subplots_adjust(left=0.2)\n",
    "        plt.savefig('test'+xc+'-'+tb+'-%.2f-%.2f-%.2f.pdf'%(t1,t2,t3))\n",
    "        plt.close('all')"
   ]
  },
  {
   "cell_type": "code",
   "execution_count": 2,
   "metadata": {},
   "outputs": [
    {
     "name": "stdout",
     "output_type": "stream",
     "text": [
      "Found 112 pz sites\n",
      "   U   = 0.0\n",
      "   Nup = 56\n",
      "   Ndn = 56\n",
      "Appending to mol6.XV.nc\n"
     ]
    }
   ],
   "source": [
    "H = hubbard.Hubbard('mol6.XV')"
   ]
  },
  {
   "cell_type": "code",
   "execution_count": 12,
   "metadata": {},
   "outputs": [
    {
     "name": "stdout",
     "output_type": "stream",
     "text": [
      "[0.  0.2 0.4 0.6 0.8]\n"
     ]
    }
   ],
   "source": [
    "print np.arange(0,1,1./5)"
   ]
  },
  {
   "cell_type": "code",
   "execution_count": 39,
   "metadata": {},
   "outputs": [
    {
     "name": "stdout",
     "output_type": "stream",
     "text": [
      "[0.  0.2 0.4 0.6 0.8 1.  1.2 1.4 1.6 1.8 2.  2.2 2.4 2.6 2.8 3.  3.2 3.4\n",
      " 3.6 3.8 4. ]\n"
     ]
    }
   ],
   "source": [
    "Urng = np.linspace(0.0,4.0,21)\n",
    "print Urng"
   ]
  },
  {
   "cell_type": "code",
   "execution_count": 41,
   "metadata": {},
   "outputs": [
    {
     "name": "stdout",
     "output_type": "stream",
     "text": [
      "Wrote (U,Nup,Ndn)=(0.00,56,56) data to mol6.XV.nc\n",
      "0.0 0.0 -436.4927042325995\n",
      "Wrote (U,Nup,Ndn)=(0.20,56,56) data to mol6.XV.nc\n",
      "0.2 4.1572301157088987e-13 -430.88612353167844\n",
      "Wrote (U,Nup,Ndn)=(0.40,56,56) data to mol6.XV.nc\n",
      "0.4 2.703393064962256e-13 -425.2798727249801\n",
      "Wrote (U,Nup,Ndn)=(0.60,56,56) data to mol6.XV.nc\n",
      "0.6000000000000001 1.8685053504441385e-13 -419.6739304127801\n",
      "Wrote (U,Nup,Ndn)=(0.80,56,56) data to mol6.XV.nc\n",
      "0.8 3.4755531785890525e-13 -414.0682768339461\n",
      "Wrote (U,Nup,Ndn)=(1.00,56,56) data to mol6.XV.nc\n",
      "1.0 2.8965718712470334e-13 -408.4628936443016\n",
      "Wrote (U,Nup,Ndn)=(1.20,56,56) data to mol6.XV.nc\n",
      "1.2000000000000002 2.8738122992422177e-13 -402.85776374812644\n",
      "Wrote (U,Nup,Ndn)=(1.40,56,56) data to mol6.XV.nc\n",
      "1.4000000000000001 2.681188604469753e-13 -397.2528711710814\n",
      "Wrote (U,Nup,Ndn)=(1.60,56,56) data to mol6.XV.nc\n",
      "1.6 2.293165657363261e-13 -391.64820096437035\n",
      "Wrote (U,Nup,Ndn)=(1.80,56,56) data to mol6.XV.nc\n",
      "1.8 3.0370150838621157e-13 -386.0437391314525\n",
      "Wrote (U,Nup,Ndn)=(2.00,56,56) data to mol6.XV.nc\n",
      "2.0 2.88935542158697e-13 -380.4394725701723\n",
      "Wrote (U,Nup,Ndn)=(2.20,56,56) data to mol6.XV.nc\n",
      "2.2 3.0231372960543013e-13 -374.8353890247105\n",
      "Wrote (U,Nup,Ndn)=(2.40,56,56) data to mol6.XV.nc\n",
      "2.4000000000000004 4.0114501165255945e-09 -369.23147704323816\n",
      "Wrote (U,Nup,Ndn)=(2.60,56,56) data to mol6.XV.nc\n",
      "2.6 0.0001108434680894832 -363.627725915464\n",
      "Wrote (U,Nup,Ndn)=(2.80,56,56) data to mol6.XV.nc\n",
      "2.8000000000000003 5.60018090789427e-08 -358.02541533496367\n",
      "Wrote (U,Nup,Ndn)=(3.00,56,56) data to mol6.XV.nc\n",
      "3.0 3.564371020559065e-13 -352.42875612042246\n",
      "Wrote (U,Nup,Ndn)=(3.20,56,56) data to mol6.XV.nc\n",
      "3.2 5.015432513744145e-13 -346.83761423254765\n",
      "Wrote (U,Nup,Ndn)=(3.40,56,56) data to mol6.XV.nc\n",
      "3.4000000000000004 3.5127456499139953e-13 -341.2514710173561\n",
      "Wrote (U,Nup,Ndn)=(3.60,56,56) data to mol6.XV.nc\n",
      "3.6 2.9598545836506673e-13 -335.67072686999325\n",
      "Wrote (U,Nup,Ndn)=(3.80,56,56) data to mol6.XV.nc\n",
      "3.8000000000000003 2.736699755701011e-13 -330.09708445350645\n",
      "Wrote (U,Nup,Ndn)=(4.00,56,56) data to mol6.XV.nc\n",
      "4.0 2.421951528219779e-13 -324.53362577414737\n"
     ]
    }
   ],
   "source": [
    "ES = 0*Urng\n",
    "H.Nup = 56\n",
    "H.Ndn = 56\n",
    "for j,u in enumerate(Urng):\n",
    "    H.U = u\n",
    "    H.read()\n",
    "    [H.iterate(mix=1) for i in range(1)]\n",
    "    dn, e = H.iterate(mix=1)\n",
    "    H.save()\n",
    "    print u, dn, e\n",
    "    ES[j] = e"
   ]
  },
  {
   "cell_type": "code",
   "execution_count": 40,
   "metadata": {},
   "outputs": [
    {
     "name": "stdout",
     "output_type": "stream",
     "text": [
      "Wrote (U,Nup,Ndn)=(0.00,57,55) data to mol6.XV.nc\n",
      "0.0 0.0 -436.2507632110554\n",
      "Wrote (U,Nup,Ndn)=(0.20,57,55) data to mol6.XV.nc\n",
      "0.2 4.421463195569686e-13 -430.65598988253544\n",
      "Wrote (U,Nup,Ndn)=(0.40,57,55) data to mol6.XV.nc\n",
      "0.4 1.8002266344296913e-13 -425.0616604218711\n",
      "Wrote (U,Nup,Ndn)=(0.60,57,55) data to mol6.XV.nc\n",
      "0.6000000000000001 2.0816681711721685e-13 -419.4677940202117\n",
      "Wrote (U,Nup,Ndn)=(0.80,57,55) data to mol6.XV.nc\n",
      "0.8 2.6084689963568053e-13 -413.87441389024684\n",
      "Wrote (U,Nup,Ndn)=(1.00,57,55) data to mol6.XV.nc\n",
      "1.0 3.287925487427401e-13 -408.28154774978714\n",
      "Wrote (U,Nup,Ndn)=(1.20,57,55) data to mol6.XV.nc\n",
      "1.2000000000000002 1.9279022822615843e-13 -402.6892284657417\n",
      "Wrote (U,Nup,Ndn)=(1.40,57,55) data to mol6.XV.nc\n",
      "1.4000000000000001 3.03146396873899e-13 -397.09749490920007\n",
      "Wrote (U,Nup,Ndn)=(1.60,57,55) data to mol6.XV.nc\n",
      "1.6 2.8133051444001467e-13 -391.50639309918836\n",
      "Wrote (U,Nup,Ndn)=(1.80,57,55) data to mol6.XV.nc\n",
      "1.8 2.8149704789370844e-13 -385.9159777562958\n",
      "Wrote (U,Nup,Ndn)=(2.00,57,55) data to mol6.XV.nc\n",
      "2.0 2.5912605394751154e-13 -380.3263144612869\n",
      "Wrote (U,Nup,Ndn)=(2.20,57,55) data to mol6.XV.nc\n",
      "2.2 3.3428815271463463e-13 -374.7374827446005\n",
      "Wrote (U,Nup,Ndn)=(2.40,57,55) data to mol6.XV.nc\n",
      "2.4000000000000004 2.8238522631340857e-13 -369.1495806749865\n",
      "Wrote (U,Nup,Ndn)=(2.60,57,55) data to mol6.XV.nc\n",
      "2.6 4.2010839251815923e-13 -363.56273198765746\n",
      "Wrote (U,Nup,Ndn)=(2.80,57,55) data to mol6.XV.nc\n",
      "2.8000000000000003 2.348121697082206e-13 -357.9770977636156\n",
      "Wrote (U,Nup,Ndn)=(3.00,57,55) data to mol6.XV.nc\n",
      "3.0 3.124722702807503e-13 -352.39289679086374\n",
      "Wrote (U,Nup,Ndn)=(3.20,57,55) data to mol6.XV.nc\n",
      "3.2 4.73676653456323e-13 -346.8104436549397\n",
      "Wrote (U,Nup,Ndn)=(3.40,57,55) data to mol6.XV.nc\n",
      "3.4000000000000004 4.615197113366776e-13 -341.23022571635323\n",
      "Wrote (U,Nup,Ndn)=(3.60,57,55) data to mol6.XV.nc\n",
      "3.6 2.892130979148533e-13 -335.6530711943834\n",
      "Wrote (U,Nup,Ndn)=(3.80,57,55) data to mol6.XV.nc\n",
      "3.8000000000000003 6.0247362654308745e-12 -330.08053289113576\n",
      "Wrote (U,Nup,Ndn)=(4.00,57,55) data to mol6.XV.nc\n",
      "4.0 6.00968719233208e-11 -324.5156074231145\n"
     ]
    }
   ],
   "source": [
    "ET = 0*Urng\n",
    "H.Nup = 57\n",
    "H.Ndn = 55\n",
    "for j,u in enumerate(Urng):\n",
    "    H.U = u\n",
    "    H.read()\n",
    "    [H.iterate(mix=1) for i in range(30)]\n",
    "    dn, e = H.iterate(mix=1)\n",
    "    H.save()\n",
    "    print u, dn, e\n",
    "    ET[j] = e"
   ]
  },
  {
   "cell_type": "code",
   "execution_count": 42,
   "metadata": {},
   "outputs": [
    {
     "data": {
      "image/png": "[encoded data removed]",
      "text/plain": [
       "<matplotlib.figure.Figure at 0x7fc18932a810>"
      ]
     },
     "metadata": {},
     "output_type": "display_data"
    }
   ],
   "source": [
    "plt.plot(Urng,ET-ES,'.')\n",
    "plt.show()"
   ]
  },
  {
   "cell_type": "code",
   "execution_count": 30,
   "metadata": {},
   "outputs": [
    {
     "name": "stdout",
     "output_type": "stream",
     "text": [
      "(2.471911564327911e-13, -346.8376142325477)\n",
      "Wrote (U,Nup,Ndn)=(3.20,56,56) data to mol6.XV.nc\n"
     ]
    }
   ],
   "source": [
    "    \n",
    "H.U = 3.2\n",
    "H.Nup = 56\n",
    "H.Ndn = 56\n",
    "H.read()\n",
    "#H.init_density()\n",
    "[H.iterate(mix=1) for i in range(100)]\n",
    "print H.iterate()\n",
    "H.save()"
   ]
  },
  {
   "cell_type": "code",
   "execution_count": 31,
   "metadata": {},
   "outputs": [
    {
     "data": {
      "image/png": "[encoded data removed]",
      "text/plain": [
       "<matplotlib.figure.Figure at 0x7f5973e06050>"
      ]
     },
     "metadata": {},
     "output_type": "display_data"
    }
   ],
   "source": [
    "H.plot_polarization(f=400)\n",
    "#H.plot_charge(f=40)"
   ]
  },
  {
   "cell_type": "code",
   "execution_count": 19,
   "metadata": {},
   "outputs": [
    {
     "name": "stdout",
     "output_type": "stream",
     "text": [
      "[[3.         3.2       ]\n",
      " [0.03585933 0.02717058]]\n"
     ]
    },
    {
     "data": {
      "image/png": "[encoded data removed]",
      "text/plain": [
       "<matplotlib.figure.Figure at 0x7fbd2f8f89d0>"
      ]
     },
     "metadata": {},
     "output_type": "display_data"
    }
   ],
   "source": [
    "dat = []\n",
    "for i in S.conv.keys():\n",
    "    dat.append([i,T.conv[i][2]-S.conv[i][2]])\n",
    "dat.sort()\n",
    "dat = np.array(dat).T\n",
    "print dat\n",
    "plt.plot(dat[0],dat[1])\n",
    "plt.ylim([0.015,0.1])\n",
    "plt.show()"
   ]
  },
  {
   "cell_type": "code",
   "execution_count": 13,
   "metadata": {},
   "outputs": [
    {
     "name": "stdout",
     "output_type": "stream",
     "text": [
      "Retrieved state for U = 3.0000 eV\n"
     ]
    }
   ],
   "source": [
    "T.retrieve_state(3.)"
   ]
  },
  {
   "cell_type": "code",
   "execution_count": 20,
   "metadata": {},
   "outputs": [
    {
     "data": {
      "text/plain": [
       "{3.0: [array([0.50501621, 0.5221993 , 0.50726152, 0.49482553, 0.4967913 ,\n",
       "         0.50600542, 0.49538623, 0.50774719, 0.50973159, 0.49513515,\n",
       "         0.49358251, 0.50131716, 0.49653836, 0.50484097, 0.51567943,\n",
       "         0.58802891, 0.50415229, 0.50571437, 0.49561371, 0.4982023 ,\n",
       "         0.49067944, 0.50717513, 0.47517585, 0.60169315, 0.49388828,\n",
       "         0.48880887, 0.51178333, 0.47852185, 0.57155699, 0.48154353,\n",
       "         0.49393478, 0.50656543, 0.49315726, 0.49114142, 0.50683541,\n",
       "         0.51536925, 0.50476218, 0.4934176 , 0.49383875, 0.50227902,\n",
       "         0.49030506, 0.50033171, 0.49310162, 0.52309547, 0.50220989,\n",
       "         0.50417549, 0.49481362, 0.49550204, 0.48988439, 0.50121888,\n",
       "         0.48575089, 0.53749661, 0.50155598, 0.48783918, 0.5194767 ,\n",
       "         0.48709502, 0.52025782, 0.49682008, 0.55372543, 0.49194789,\n",
       "         0.55547489, 0.59830738, 0.5428025 , 0.54420765, 0.48364158,\n",
       "         0.52554642, 0.47950279, 0.51428378, 0.47854619, 0.59803733,\n",
       "         0.51081598, 0.53692585, 0.49216482, 0.52279204, 0.48551189,\n",
       "         0.51850283, 0.47100727, 0.65165403, 0.49942333, 0.48383722,\n",
       "         0.52716597, 0.47236446, 0.61364534, 0.4787046 , 0.5006503 ,\n",
       "         0.50420038, 0.49896758, 0.48680026, 0.51523883, 0.52541053,\n",
       "         0.49767968, 0.49821335, 0.49289413, 0.50841341, 0.48991356,\n",
       "         0.50220951, 0.49321289, 0.5296399 , 0.49837753, 0.50891445,\n",
       "         0.49437727, 0.49949063, 0.48933155, 0.50323271, 0.48632574,\n",
       "         0.547042  , 0.49874928, 0.4877035 , 0.52520609, 0.48778282,\n",
       "         0.52529245, 0.49736279]),\n",
       "  array([0.50440205, 0.50815142, 0.50602086, 0.49419223, 0.49664303,\n",
       "         0.49216332, 0.49634419, 0.4751122 , 0.50358814, 0.49355895,\n",
       "         0.49693447, 0.48981124, 0.50584523, 0.49415638, 0.528703  ,\n",
       "         0.44917884, 0.50161245, 0.50308898, 0.49948265, 0.49356531,\n",
       "         0.49912319, 0.49405745, 0.50170192, 0.39840115, 0.49118693,\n",
       "         0.49739696, 0.48131413, 0.50664849, 0.41965901, 0.50631754,\n",
       "         0.493121  , 0.49695668, 0.49187619, 0.50023058, 0.47911635,\n",
       "         0.46191972, 0.49953969, 0.49059146, 0.50144312, 0.48270156,\n",
       "         0.50088962, 0.49211776, 0.51227621, 0.47709665, 0.50395517,\n",
       "         0.49945464, 0.49686775, 0.48790583, 0.49899911, 0.49051243,\n",
       "         0.49920654, 0.46576396, 0.50419761, 0.4966094 , 0.48506581,\n",
       "         0.49750868, 0.48501421, 0.50769026, 0.4804482 , 0.48895972,\n",
       "         0.45868422, 0.4146734 , 0.50641492, 0.50069919, 0.5036797 ,\n",
       "         0.47352587, 0.50699949, 0.47886371, 0.52779141, 0.4147577 ,\n",
       "         0.52608215, 0.46268513, 0.49744592, 0.48016618, 0.50833739,\n",
       "         0.48199258, 0.51514005, 0.36903099, 0.51136523, 0.51068381,\n",
       "         0.46671356, 0.51510308, 0.41006905, 0.5122931 , 0.48558026,\n",
       "         0.53139729, 0.48839894, 0.50867451, 0.47944983, 0.46787858,\n",
       "         0.53418989, 0.48884833, 0.503766  , 0.48453105, 0.50494752,\n",
       "         0.49209094, 0.51506593, 0.482622  , 0.51863048, 0.49820663,\n",
       "         0.50292167, 0.48761666, 0.50349563, 0.49135598, 0.50081773,\n",
       "         0.4755056 , 0.51880107, 0.49903593, 0.48936518, 0.49875467,\n",
       "         0.48917283, 0.50928345]),\n",
       "  Hamiltonian{non-zero: 1164, orthogonal: True,\n",
       "   Spin{unpolarized, kind=f},\n",
       "   Geometry{na: 112, no: 112,\n",
       "    Atoms{species: 2,\n",
       "      Atom{H, Z: 1, orbs: 1, mass(au): 1.00794, maxR: -1.00000}: 0, \n",
       "      Atom{C, Z: 6, orbs: 1, mass(au): 12.01070, maxR: -1.00000}: 112, \n",
       "    },\n",
       "    nsc: [1, 1, 1], maxR: -1.0\n",
       "   }\n",
       "  },\n",
       "  Hamiltonian{non-zero: 1164, orthogonal: True,\n",
       "   Spin{unpolarized, kind=f},\n",
       "   Geometry{na: 112, no: 112,\n",
       "    Atoms{species: 2,\n",
       "      Atom{H, Z: 1, orbs: 1, mass(au): 1.00794, maxR: -1.00000}: 0, \n",
       "      Atom{C, Z: 6, orbs: 1, mass(au): 12.01070, maxR: -1.00000}: 112, \n",
       "    },\n",
       "    nsc: [1, 1, 1], maxR: -1.0\n",
       "   }\n",
       "  },\n",
       "  -352.39289679086363]}"
      ]
     },
     "execution_count": 20,
     "metadata": {},
     "output_type": "execute_result"
    }
   ],
   "source": [
    "T.conv"
   ]
  },
  {
   "cell_type": "code",
   "execution_count": 31,
   "metadata": {},
   "outputs": [
    {
     "data": {
      "text/plain": [
       "<type 'netCDF4._netCDF4.Dimension'>: name = 'sites', size = 112"
      ]
     },
     "execution_count": 31,
     "metadata": {},
     "output_type": "execute_result"
    }
   ],
   "source": [
    "ncf.close()\n",
    "ncf = NC.Dataset('test.nc','w')\n",
    "ncf.createDimension('unl',None)\n",
    "ncf.createDimension('spin',2)\n",
    "ncf.createDimension('sites',len(T.pi_geom))\n"
   ]
  },
  {
   "cell_type": "code",
   "execution_count": 32,
   "metadata": {},
   "outputs": [
    {
     "data": {
      "text/plain": [
       "<type 'netCDF4._netCDF4.Variable'>\n",
       "float64 density(unl, spin, sites)\n",
       "unlimited dimensions: unl\n",
       "current shape = (0, 2, 112)\n",
       "filling on, default _FillValue of 9.96920996839e+36 used"
      ]
     },
     "execution_count": 32,
     "metadata": {},
     "output_type": "execute_result"
    }
   ],
   "source": [
    "ncf.createVariable('U', 'f8', (\"unl\",))\n",
    "ncf.createVariable('density', 'f8', (\"unl\",\"spin\",\"sites\"))"
   ]
  },
  {
   "cell_type": "code",
   "execution_count": 35,
   "metadata": {},
   "outputs": [],
   "source": [
    "ncf['U'][:] = T.conv.keys()"
   ]
  },
  {
   "cell_type": "code",
   "execution_count": 36,
   "metadata": {},
   "outputs": [
    {
     "name": "stdout",
     "output_type": "stream",
     "text": [
      "[3.0, 3.2]\n"
     ]
    }
   ],
   "source": [
    "print T.conv.keys()"
   ]
  },
  {
   "cell_type": "code",
   "execution_count": 37,
   "metadata": {},
   "outputs": [],
   "source": [
    "ncf.sync()"
   ]
  },
  {
   "cell_type": "code",
   "execution_count": 38,
   "metadata": {},
   "outputs": [
    {
     "data": {
      "text/plain": [
       "array([3. , 3.2])"
      ]
     },
     "execution_count": 38,
     "metadata": {},
     "output_type": "execute_result"
    }
   ],
   "source": [
    "ncf['U'][:]"
   ]
  },
  {
   "cell_type": "code",
   "execution_count": 40,
   "metadata": {},
   "outputs": [
    {
     "name": "stdout",
     "output_type": "stream",
     "text": [
      "hej\n"
     ]
    }
   ],
   "source": [
    "if 3. in ncf['U'][:]:\n",
    "    print 'hej'"
   ]
  },
  {
   "cell_type": "code",
   "execution_count": null,
   "metadata": {},
   "outputs": [],
   "source": []
  }
 ],
 "metadata": {
  "kernelspec": {
   "display_name": "Python 2",
   "language": "python",
   "name": "python2"
  },
  "language_info": {
   "codemirror_mode": {
    "name": "ipython",
    "version": 2
   },
   "file_extension": ".py",
   "mimetype": "text/x-python",
   "name": "python",
   "nbconvert_exporter": "python",
   "pygments_lexer": "ipython2",
   "version": "2.7.14"
  }
 },
 "nbformat": 4,
 "nbformat_minor": 2
}
