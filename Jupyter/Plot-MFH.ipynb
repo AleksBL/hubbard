{
 "cells": [
  {
   "cell_type": "code",
   "execution_count": 1,
   "metadata": {},
   "outputs": [
    {
     "name": "stderr",
     "output_type": "stream",
     "text": [
      "info:0: SislInfo: Please install tqdm (pip install tqdm) for better looking progress bars\n"
     ]
    }
   ],
   "source": [
    "import numpy as np\n",
    "import netCDF4 as NC\n",
    "import matplotlib.pyplot as plt\n",
    "import sisl\n",
    "import hubbard"
   ]
  },
  {
   "cell_type": "code",
   "execution_count": 30,
   "metadata": {},
   "outputs": [],
   "source": [
    "def readNC(fn,ispin=0,nbands=20):\n",
    "    nc = NC.Dataset(fn)\n",
    "    kx = nc.variables['grid'][:,0]\n",
    "    ev = nc.variables['eigenvalues'][:,ispin,-nbands:]\n",
    "    nc.close()\n",
    "    return kx,ev\n",
    "\n",
    "def mkplots(H):\n",
    "    for xc in [r'LDA', r'GGA']:\n",
    "        if 'LDA' in xc:\n",
    "            fn = xc+'/31-ribbon/8.870/Ebands/Electrons.nc' # LDA minimum\n",
    "        else:\n",
    "            fn = xc+'/31-ribbon/8.970/Ebands/Electrons.nc' # GGA minimum\n",
    "        fig = plt.figure(figsize=(4,8));\n",
    "        axes = plt.axes();\n",
    "        # Get TB bands\n",
    "        ka, evup, evdn = H.get_1D_band_structure()\n",
    "        ka = 2*ka # Units ka/pi\n",
    "        egap = (evup[0,14]+evup[0,13])/2 # determine midgap\n",
    "        # Add siesta bands\n",
    "        k1, ev = readNC(fn)\n",
    "        egap2 = (ev[0,9]+ev[0,10])/2\n",
    "        plt.plot(ka,ev-egap2,'k');\n",
    "        # Add TB results\n",
    "        plt.plot(ka, evup-egap, 'r')\n",
    "        # Adjust plot\n",
    "        plt.ylim(-4,4)\n",
    "        s = 19\n",
    "        plt.rc('font', family='Bitstream Vera Serif', size=s)\n",
    "        plt.rc('text', usetex=True)\n",
    "        if H.t3 == 0:\n",
    "            NN = '1NN'\n",
    "        else:\n",
    "            NN = '3NN'\n",
    "        axes.set_title(r'%s vs.~%s ($U=%.2f$ eV)'%(xc,NN,H.U),size=s)\n",
    "        axes.set_xlabel(r'$ka/\\pi$')\n",
    "        axes.set_ylabel(r'$E_{nk}$ (eV)')\n",
    "        #plt.xticks(np.arange(0,.6,0.1))\n",
    "        plt.subplots_adjust(left=0.2,top=.95,bottom=0.1,right=0.95)\n",
    "        plt.savefig(xc+'-%s-U%.2f.pdf'%(NN,H.U))\n",
    "        plt.close('all')"
   ]
  },
  {
   "cell_type": "markdown",
   "metadata": {},
   "source": [
    "# (3,1)cGNR"
   ]
  },
  {
   "cell_type": "code",
   "execution_count": 111,
   "metadata": {},
   "outputs": [
    {
     "name": "stdout",
     "output_type": "stream",
     "text": [
      "Found 28 pz sites\n",
      "   U   = 0.0\n",
      "   Nup = 14\n",
      "   Ndn = 14\n",
      "Appending to Systems/31cGNR.XV.nc\n"
     ]
    }
   ],
   "source": [
    "#H = hubbard.Hubbard('Systems/31cGNR.XV',t1=2.7,t2=0,t3=0,nsc=[3,1,1],kmesh=[50,1,1])\n",
    "H = hubbard.Hubbard('Systems/31cGNR.XV',t1=2.7,t2=0.2,t3=.18,nsc=[3,1,1],kmesh=[100,1,1])"
   ]
  },
  {
   "cell_type": "code",
   "execution_count": 112,
   "metadata": {},
   "outputs": [
    {
     "name": "stdout",
     "output_type": "stream",
     "text": [
      "(3.3775200634078573e-06, -88.17281671211083)\n",
      "(3.3701044534484303e-06, -88.1728166253704)\n",
      "(3.361509732902057e-06, -88.17281653888816)\n",
      "(3.352604627471223e-06, -88.1728164526516)\n",
      "(3.3436205633674554e-06, -88.17281636665427)\n",
      "Wrote (U,Nup,Ndn)=(3.00,14,14) data to Systems/31cGNR.XV.nc\n"
     ]
    },
    {
     "data": {
      "image/png": "[encoded data removed]",
      "text/plain": [
       "<Figure size 432x432 with 1 Axes>"
      ]
     },
     "metadata": {},
     "output_type": "display_data"
    }
   ],
   "source": [
    "H.U = 3.\n",
    "H.read()\n",
    "for i in range(5):\n",
    "    print H.iterate(mix=1)\n",
    "#H.plot_charge(f=400)\n",
    "H.save()\n",
    "H.plot_polarization(f=400)\n",
    "mkplots(H)"
   ]
  }
 ],
 "metadata": {
  "kernelspec": {
   "display_name": "Python 2",
   "language": "python",
   "name": "python2"
  },
  "language_info": {
   "codemirror_mode": {
    "name": "ipython",
    "version": 2
   },
   "file_extension": ".py",
   "mimetype": "text/x-python",
   "name": "python",
   "nbconvert_exporter": "python",
   "pygments_lexer": "ipython2",
   "version": "2.7.14"
  }
 },
 "nbformat": 4,
 "nbformat_minor": 2
}
