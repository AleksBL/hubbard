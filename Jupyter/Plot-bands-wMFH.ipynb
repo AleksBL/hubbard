{
 "cells": [
  {
   "cell_type": "code",
   "execution_count": 1,
   "metadata": {},
   "outputs": [],
   "source": [
    "import numpy as np\n",
    "import netCDF4 as NC\n",
    "import matplotlib.pyplot as plt\n",
    "import glob\n",
    "import sisl\n",
    "import hubbard"
   ]
  },
  {
   "cell_type": "code",
   "execution_count": 2,
   "metadata": {},
   "outputs": [],
   "source": [
    "def readNC(fn,ispin=0,nbands=20):\n",
    "    nc = NC.Dataset(fn)\n",
    "    kx = nc.variables['grid'][:,0]\n",
    "    ev = nc.variables['eigenvalues'][:,ispin,-nbands:]\n",
    "    nc.close()\n",
    "    return kx,ev\n",
    "\n",
    "def plot(fn):\n",
    "    plt.plot()"
   ]
  },
  {
   "cell_type": "code",
   "execution_count": 14,
   "metadata": {},
   "outputs": [],
   "source": [
    "def TBbands(geom):\n",
    "    H = hubbard.Hubbard(geom,nsc=[3,1,1],kmesh=[10,1,1])\n",
    "    H.U = 0\n",
    "    H.read()\n",
    "    print H.iterate()\n",
    "    klist = np.linspace(0,0.5,101)\n",
    "    eigs = np.empty([len(klist), H.H0.no])\n",
    "    for ik, k in enumerate(klist):\n",
    "        eigs[ik,:] = H.Hup.eigh([k,0,0], eigvals_only=True)\n",
    "    return klist,eigs"
   ]
  },
  {
   "cell_type": "code",
   "execution_count": 7,
   "metadata": {},
   "outputs": [],
   "source": [
    "def mkplots(t1=2.7,t2=0.2,t3=0.18):\n",
    "    if t2 > 0 or t3 > 0:\n",
    "        tb = '3NN'\n",
    "    else:\n",
    "        tb = '1NN'\n",
    "\n",
    "    # Read structure from here:\n",
    "    #ka,evtb = TBbands('LDA/31-ribbon/8.870/molecule.XV',t1,t2,t3)\n",
    "    ka,evtb = TBbands('31cGNR.XV')\n",
    "    ka = 2*ka # Units ka/pi\n",
    "    egap = (evtb[0,14]+evtb[0,13])/2 # determine midgap\n",
    "\n",
    "    for xc in [r'LDA', r'GGA']:\n",
    "        if 'LDA' in xc:\n",
    "            fn = xc+'/31-ribbon/8.870/Ebands/Electrons.nc' # LDA minimum\n",
    "        else:\n",
    "            fn = xc+'/31-ribbon/8.970/Ebands/Electrons.nc' # GGA minimum\n",
    "        fig = plt.figure(figsize=(4,6));\n",
    "        axes = plt.axes();\n",
    "\n",
    "        # Add siesta bands\n",
    "        k1,ev = readNC(fn)\n",
    "        egap2 = (ev[0,9]+ev[0,10])/2\n",
    "        plt.plot(ka,ev-egap2,'k');\n",
    "        # Add TB results\n",
    "        plt.plot(ka, evtb-egap, 'r')\n",
    "        plt.ylim(-4,4)\n",
    "        plt.rc('font', family='Bitstream Vera Serif', size=16)\n",
    "        plt.rc('text', usetex=True)\n",
    "\n",
    "        axes.set_title(xc+r' vs.~'+tb)\n",
    "        axes.set_xlabel(r'$ka/\\pi$')\n",
    "        axes.set_ylabel(r'$E_{nk}$ (eV)')\n",
    "        #plt.xticks(np.arange(0,.6,0.1))\n",
    "        plt.subplots_adjust(left=0.2)\n",
    "        plt.savefig('test'+xc+'-'+tb+'-%.2f-%.2f-%.2f.pdf'%(t1,t2,t3))\n",
    "        plt.close('all')\n"
   ]
  },
  {
   "cell_type": "code",
   "execution_count": 16,
   "metadata": {},
   "outputs": [
    {
     "name": "stdout",
     "output_type": "stream",
     "text": [
      "Found 28 pz sites\n",
      "   U   = 0.0\n",
      "   Nup = 14\n",
      "   Ndn = 14\n",
      "Appending to 31cGNR.XV.nc\n",
      "(0.0, -109.38174415778576)\n"
     ]
    }
   ],
   "source": [
    "mkplots()"
   ]
  },
  {
   "cell_type": "code",
   "execution_count": 118,
   "metadata": {},
   "outputs": [],
   "source": [
    "for t in [2.7,2.8,2.9]:\n",
    "    mkplots(t1=t, t2=0.0, t3=0.00)\n",
    "    mkplots(t1=t, t2=0.2, t3=0.18)"
   ]
  },
  {
   "cell_type": "code",
   "execution_count": 117,
   "metadata": {},
   "outputs": [],
   "source": [
    "mkplots(t1=2.9, t2=0.0, t3=0.0)"
   ]
  },
  {
   "cell_type": "code",
   "execution_count": 84,
   "metadata": {},
   "outputs": [],
   "source": [
    "mkplots(t1=2.9, t2=0.2, t3=0.18)"
   ]
  },
  {
   "cell_type": "code",
   "execution_count": null,
   "metadata": {},
   "outputs": [],
   "source": []
  }
 ],
 "metadata": {
  "kernelspec": {
   "display_name": "Python 2",
   "language": "python",
   "name": "python2"
  },
  "language_info": {
   "codemirror_mode": {
    "name": "ipython",
    "version": 2
   },
   "file_extension": ".py",
   "mimetype": "text/x-python",
   "name": "python",
   "nbconvert_exporter": "python",
   "pygments_lexer": "ipython2",
   "version": "2.7.14"
  }
 },
 "nbformat": 4,
 "nbformat_minor": 2
}
