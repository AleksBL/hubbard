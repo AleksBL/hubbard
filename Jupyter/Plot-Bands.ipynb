{
 "cells": [
  {
   "cell_type": "code",
   "execution_count": 1,
   "metadata": {},
   "outputs": [
    {
     "name": "stderr",
     "output_type": "stream",
     "text": [
      "info:0: SislInfo: Please install tqdm (pip install tqdm) for better looking progress bars\n"
     ]
    }
   ],
   "source": [
    "import numpy as np\n",
    "import netCDF4 as NC\n",
    "import matplotlib.pyplot as plt\n",
    "import sisl\n",
    "import hubbard"
   ]
  },
  {
   "cell_type": "code",
   "execution_count": 6,
   "metadata": {},
   "outputs": [
    {
     "name": "stdout",
     "output_type": "stream",
     "text": [
      "Found 112 pz sites\n",
      "   U   = 0.0\n",
      "   Nup = 56\n",
      "   Ndn = 56\n",
      "Appending to Systems/mol6.XV.nc\n"
     ]
    }
   ],
   "source": [
    "H = hubbard.Hubbard('Systems/mol6.XV',t1=2.7,t2=0.0,t3=0.0)\n",
    "#H = hubbard.Hubbard('Systems/mol6.XV',t1=2.7,t2=0.2,t3=0.18)"
   ]
  },
  {
   "cell_type": "code",
   "execution_count": 8,
   "metadata": {},
   "outputs": [
    {
     "name": "stdout",
     "output_type": "stream",
     "text": [
      "(0.0, -444.80086819768866)\n"
     ]
    },
    {
     "data": {
      "image/png": "[encoded data removed]",
      "text/plain": [
       "<Figure size 432x432 with 1 Axes>"
      ]
     },
     "metadata": {},
     "output_type": "display_data"
    },
    {
     "name": "stdout",
     "output_type": "stream",
     "text": [
      "Wrote (U,Nup,Ndn)=(0.00,56,56) data to Systems/mol6.XV.nc\n",
      "-0.2993134130953828 0.028538646948029527 -0.13538738307367662\n",
      "0 0.09411528135220135\n",
      "1 0.09411528135220135\n"
     ]
    }
   ],
   "source": [
    "H.U = 0\n",
    "H.read()\n",
    "for i in range(1):\n",
    "    print H.iterate(mix=1)\n",
    "H.plot_polarization(f=400)\n",
    "H.save()\n",
    "H.plot_localizations(ymax=0.12)"
   ]
  },
  {
   "cell_type": "markdown",
   "metadata": {},
   "source": [
    "# Bandstructure"
   ]
  },
  {
   "cell_type": "code",
   "execution_count": 7,
   "metadata": {},
   "outputs": [],
   "source": [
    "def readNC(fn,ispin=0,nbands=20):\n",
    "    nc = NC.Dataset(fn)\n",
    "    kx = nc.variables['grid'][:,0]\n",
    "    ev = nc.variables['eigenvalues'][:,ispin,-nbands:]\n",
    "    nc.close()\n",
    "    return kx,ev\n",
    "\n",
    "def mkplots(H):\n",
    "    for xc in [r'LDA', r'GGA']:\n",
    "        if 'LDA' in xc:\n",
    "            fn = xc+'/31-ribbon/8.870/Ebands/Electrons.nc' # LDA minimum\n",
    "        else:\n",
    "            fn = xc+'/31-ribbon/8.970/Ebands/Electrons.nc' # GGA minimum\n",
    "        fig = plt.figure(figsize=(4,8));\n",
    "        axes = plt.axes();\n",
    "        # Get TB bands\n",
    "        ka, evup, evdn = H.get_1D_band_structure()\n",
    "        ka = 2*ka # Units ka/pi\n",
    "        egap = (evup[0,14]+evup[0,13])/2 # determine midgap\n",
    "        # Add siesta bands\n",
    "        k1, ev = readNC(fn)\n",
    "        egap2 = (ev[0,9]+ev[0,10])/2\n",
    "        plt.plot(ka,ev-egap2,'k');\n",
    "        # Add TB results\n",
    "        plt.plot(ka, evup-egap, 'r')\n",
    "        # Adjust plot\n",
    "        plt.ylim(-4,4)\n",
    "        s = 19\n",
    "        plt.rc('font', family='Bitstream Vera Serif', size=s)\n",
    "        plt.rc('text', usetex=True)\n",
    "        if H.t3 == 0:\n",
    "            NN = '1NN'\n",
    "        else:\n",
    "            NN = '3NN'\n",
    "        axes.set_title(r'%s vs.~%s ($U=%.2f$ eV)'%(xc,NN,H.U),size=s)\n",
    "        axes.set_xlabel(r'$ka/\\pi$')\n",
    "        axes.set_ylabel(r'$E_{nk}$ (eV)')\n",
    "        #plt.xticks(np.arange(0,.6,0.1))\n",
    "        plt.subplots_adjust(left=0.2,top=.95,bottom=0.1,right=0.95)\n",
    "        plt.savefig(xc+'-%s-U%.3i.pdf'%(NN,H.U*100))\n",
    "        plt.close('all')"
   ]
  },
  {
   "cell_type": "markdown",
   "metadata": {},
   "source": [
    "### (3,1)cGNR"
   ]
  },
  {
   "cell_type": "code",
   "execution_count": 8,
   "metadata": {},
   "outputs": [
    {
     "name": "stdout",
     "output_type": "stream",
     "text": [
      "Found 28 pz sites\n",
      "   U   = 0.0\n",
      "   Nup = 14\n",
      "   Ndn = 14\n",
      "Appending to Systems/31cGNR.XV.nc\n"
     ]
    }
   ],
   "source": [
    "H = hubbard.Hubbard('Systems/31cGNR.XV',t1=2.7,t2=0,t3=0,nsc=[3,1,1],kmesh=[100,1,1])\n",
    "#H = hubbard.Hubbard('Systems/31cGNR.XV',t1=2.7,t2=0.2,t3=.18,nsc=[3,1,1],kmesh=[100,1,1])"
   ]
  },
  {
   "cell_type": "code",
   "execution_count": 9,
   "metadata": {},
   "outputs": [
    {
     "name": "stdout",
     "output_type": "stream",
     "text": [
      "(4.551914400963142e-15, -97.47038020045196)\n",
      "Wrote (U,Nup,Ndn)=(2.00,14,14) data to Systems/31cGNR.XV.nc\n"
     ]
    },
    {
     "name": "stderr",
     "output_type": "stream",
     "text": [
      "/home/thf/.local/lib/python2.7/site-packages/matplotlib/collections.py:902: RuntimeWarning: invalid value encountered in sqrt\n",
      "  scale = np.sqrt(self._sizes) * dpi / 72.0 * self._factor\n"
     ]
    },
    {
     "data": {
      "image/png": "[encoded data removed]",
      "text/plain": [
       "<Figure size 432x432 with 1 Axes>"
      ]
     },
     "metadata": {},
     "output_type": "display_data"
    }
   ],
   "source": [
    "H.U = 2.\n",
    "H.read()\n",
    "for i in range(1):\n",
    "    print H.iterate(mix=1)\n",
    "#H.plot_charge(f=400)\n",
    "H.save()\n",
    "H.plot_polarization(f=400)\n",
    "#mkplots(H)\n",
    "H.plot_bands()"
   ]
  },
  {
   "cell_type": "markdown",
   "metadata": {},
   "source": [
    "# mol1"
   ]
  },
  {
   "cell_type": "code",
   "execution_count": 2,
   "metadata": {},
   "outputs": [
    {
     "name": "stdout",
     "output_type": "stream",
     "text": [
      "Found 28 pz sites\n",
      "   U   = 0.0\n",
      "   Nup = 14\n",
      "   Ndn = 14\n",
      "Appending to Systems/mol1.XV.nc\n",
      "Hash not found:\n",
      "... t1=2.70 t2=0.00 t3=0.00 U=0.00 Nup=14.00 Ndn=14.00 \n"
     ]
    }
   ],
   "source": []
  },
  {
   "cell_type": "code",
   "execution_count": null,
   "metadata": {},
   "outputs": [],
   "source": []
  }
 ],
 "metadata": {
  "kernelspec": {
   "display_name": "Python 2",
   "language": "python",
   "name": "python2"
  },
  "language_info": {
   "codemirror_mode": {
    "name": "ipython",
    "version": 2
   },
   "file_extension": ".py",
   "mimetype": "text/x-python",
   "name": "python",
   "nbconvert_exporter": "python",
   "pygments_lexer": "ipython2",
   "version": "2.7.14"
  }
 },
 "nbformat": 4,
 "nbformat_minor": 2
}
